{
 "cells": [
  {
   "cell_type": "markdown",
   "metadata": {},
   "source": [
    "# Sixmok 진행\n",
    "\n",
    "## Simulation\n",
    "\n",
    "1. 바둑판의 State를 보고 Action을 찾는다\n",
    "\n",
    "## Policy\n",
    "\n",
    "1. Random Policy : 완전 랜덤한 수를 고름\n",
    "2. Adjacent Policy : 자기가 두었던 수, Blocking 수들의 인접한 수들에서 랜덤한 수를 고름\n",
    "3. Last Adjacent Policy : 자기가 가장 마지막에 두었던 수의 인접한 수들에서 랜덤한 수를 고름\n",
    "\n",
    "Random vs Random\n",
    "Adj vs Random\n",
    "...\n",
    "\n",
    "## Reinforce Learning\n",
    "\n",
    "## To Do List\n",
    "\n",
    "1. 흑, 백 플레이어를 구분해서 모델링해야 하는가?\n",
    "-> ddogo의 돌을 1, 상대방의 돌을 2, blocking을 3 고정\n",
    "-> 시작이 2라면 상대방이 먼저 시작하는 것\n",
    "\n",
    "2. 연달아 2번 두는 것을 고려해야 하는가?\n",
    "-> 일단 한 번 두는 알고리즘을 연달아 실행\n",
    "\n",
    "3. Convolution을 어떻게 적용해야 하는가?\n",
    "-> 일단 Completely하게 구성해보고 판단"
   ]
  },
  {
   "cell_type": "code",
   "execution_count": null,
   "metadata": {},
   "outputs": [],
   "source": []
  }
 ],
 "metadata": {
  "kernelspec": {
   "display_name": "Python 3",
   "language": "python",
   "name": "python3"
  },
  "language_info": {
   "codemirror_mode": {
    "name": "ipython",
    "version": 3
   },
   "file_extension": ".py",
   "mimetype": "text/x-python",
   "name": "python",
   "nbconvert_exporter": "python",
   "pygments_lexer": "ipython3",
   "version": "3.6.6"
  }
 },
 "nbformat": 4,
 "nbformat_minor": 2
}
